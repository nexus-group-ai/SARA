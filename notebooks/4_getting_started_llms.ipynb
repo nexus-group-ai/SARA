{
 "cells": [
  {
   "cell_type": "markdown",
   "metadata": {},
   "source": [
    "# Getting started with LLMs and RAG\n",
    "\n",
    "Note: First create a filtered dataset with `filter-dataset.ipynb`"
   ]
  },
  {
   "cell_type": "code",
   "execution_count": 19,
   "metadata": {
    "ExecuteTime": {
     "end_time": "2025-03-21T11:12:28.784978Z",
     "start_time": "2025-03-21T11:12:28.772943Z"
    }
   },
   "outputs": [],
   "source": [
    "import sys\n",
    "import os\n",
    "import pandas as pd\n",
    "import json\n",
    "from dotenv import load_dotenv\n",
    "import tiktoken\n",
    "import pickle\n",
    "\n",
    "from langchain_core.documents import Document\n",
    "from langchain.text_splitter import RecursiveCharacterTextSplitter\n",
    "from langchain_core.rate_limiters import InMemoryRateLimiter\n",
    "\n",
    "from langchain.vectorstores import FAISS\n",
    "from langchain.prompts import PromptTemplate\n",
    "from langchain.chains import RetrievalQA\n",
    "\n",
    "module_path = os.path.abspath(os.path.join('..'))\n",
    "if module_path not in sys.path:\n",
    "    sys.path.append(module_path)\n",
    "\n",
    "from src.llm import get_azure_embeddings_client, get_llm_client, get_gemini_llm_client\n",
    "\n",
    "if not load_dotenv():\n",
    "    raise Exception('Error loading .env file. Make sure to place valid keys in the .env file.')"
   ]
  },
  {
   "cell_type": "code",
   "execution_count": 3,
   "metadata": {
    "ExecuteTime": {
     "end_time": "2025-03-21T11:14:35.644042Z",
     "start_time": "2025-03-21T11:14:35.632207Z"
    }
   },
   "outputs": [],
   "source": [
    "ARTICLES_CLEAN_DIR = os.path.join(\"..\", \"data\", \"articles_clean\")\n",
    "FILTERED_METADATA_PATH = os.path.join(\"..\", \"data\", \"filtered_metadata.csv\")\n",
    "DB_PATH = os.path.join(\"..\", \"rag\", \"ai_topic.db\")\n",
    "\n",
    "if not os.path.exists(DB_PATH):\n",
    "    os.makedirs(os.path.dirname(DB_PATH), exist_ok=True)"
   ]
  },
  {
   "cell_type": "code",
   "execution_count": 4,
   "metadata": {
    "ExecuteTime": {
     "end_time": "2025-03-21T11:15:00.943850Z",
     "start_time": "2025-03-21T11:15:00.903439Z"
    }
   },
   "outputs": [
    {
     "data": {
      "text/html": [
       "<div>\n",
       "<style scoped>\n",
       "    .dataframe tbody tr th:only-of-type {\n",
       "        vertical-align: middle;\n",
       "    }\n",
       "\n",
       "    .dataframe tbody tr th {\n",
       "        vertical-align: top;\n",
       "    }\n",
       "\n",
       "    .dataframe thead th {\n",
       "        text-align: right;\n",
       "    }\n",
       "</style>\n",
       "<table border=\"1\" class=\"dataframe\">\n",
       "  <thead>\n",
       "    <tr style=\"text-align: right;\">\n",
       "      <th></th>\n",
       "      <th>id</th>\n",
       "      <th>filename</th>\n",
       "      <th>published_at</th>\n",
       "      <th>author</th>\n",
       "      <th>title</th>\n",
       "      <th>category</th>\n",
       "      <th>section</th>\n",
       "      <th>word_count</th>\n",
       "      <th>financial_crisis</th>\n",
       "      <th>sustainability</th>\n",
       "      <th>fake_news</th>\n",
       "      <th>ai</th>\n",
       "      <th>digitalization</th>\n",
       "      <th>local_journalism</th>\n",
       "      <th>covid</th>\n",
       "      <th>demographics</th>\n",
       "      <th>innovation</th>\n",
       "      <th>valid_indicator</th>\n",
       "    </tr>\n",
       "  </thead>\n",
       "  <tbody>\n",
       "    <tr>\n",
       "      <th>0</th>\n",
       "      <td>7415582d-2272-44a8-91d2-10fd9ba380ac</td>\n",
       "      <td>schulautonomie-offnet-die-tur-fur-konzentratio...</td>\n",
       "      <td>2014-09-26 18:29:00</td>\n",
       "      <td>Brigitte Pechar</td>\n",
       "      <td>Schulautonomie öffnet die Tür für Konzentratio...</td>\n",
       "      <td>Politik</td>\n",
       "      <td>Nachrichten</td>\n",
       "      <td>376</td>\n",
       "      <td>0.4627</td>\n",
       "      <td>0.5436</td>\n",
       "      <td>0.5818</td>\n",
       "      <td>0.6098</td>\n",
       "      <td>0.4597</td>\n",
       "      <td>0.5763</td>\n",
       "      <td>0.6398</td>\n",
       "      <td>0.5774</td>\n",
       "      <td>0.6911</td>\n",
       "      <td>True</td>\n",
       "    </tr>\n",
       "    <tr>\n",
       "      <th>1</th>\n",
       "      <td>a90f1215-56b1-44f4-a5c2-d623d5797d73</td>\n",
       "      <td>keine-bilder-sondern-hass.json</td>\n",
       "      <td>2006-02-17 00:00:00</td>\n",
       "      <td>Michael Schmölzer</td>\n",
       "      <td>\"Keine Bilder, sondern Hass\"</td>\n",
       "      <td>Politik</td>\n",
       "      <td>Nachrichten</td>\n",
       "      <td>200</td>\n",
       "      <td>0.0698</td>\n",
       "      <td>0.5032</td>\n",
       "      <td>0.1280</td>\n",
       "      <td>0.9302</td>\n",
       "      <td>0.0280</td>\n",
       "      <td>0.0111</td>\n",
       "      <td>0.5140</td>\n",
       "      <td>0.1343</td>\n",
       "      <td>0.1802</td>\n",
       "      <td>True</td>\n",
       "    </tr>\n",
       "    <tr>\n",
       "      <th>2</th>\n",
       "      <td>3b42941e-616f-4f72-a58f-e7bef47f3ea4</td>\n",
       "      <td>newex-die-neue-osteuropaborse-mit-hohem-qualit...</td>\n",
       "      <td>2000-02-04 00:00:00</td>\n",
       "      <td>Rosa Eder</td>\n",
       "      <td>NEWEX · Die neue Osteuropabörse mit hohem Qual...</td>\n",
       "      <td>Wirtschaft</td>\n",
       "      <td>Nachrichten</td>\n",
       "      <td>308</td>\n",
       "      <td>0.5670</td>\n",
       "      <td>0.6146</td>\n",
       "      <td>0.5711</td>\n",
       "      <td>0.6185</td>\n",
       "      <td>0.5815</td>\n",
       "      <td>0.4234</td>\n",
       "      <td>0.6053</td>\n",
       "      <td>0.5924</td>\n",
       "      <td>0.5937</td>\n",
       "      <td>True</td>\n",
       "    </tr>\n",
       "    <tr>\n",
       "      <th>3</th>\n",
       "      <td>1d7d5e7f-b7e9-4f75-87a0-5fad2d424f80</td>\n",
       "      <td>ich-glaube-an-den-mundigen-burger.json</td>\n",
       "      <td>2013-11-21 19:50:00</td>\n",
       "      <td>Elisabeth Hewson</td>\n",
       "      <td>\"Ich glaube an den mündigen Bürger\"</td>\n",
       "      <td>Wissen</td>\n",
       "      <td>Nachrichten</td>\n",
       "      <td>1640</td>\n",
       "      <td>0.4024</td>\n",
       "      <td>0.4625</td>\n",
       "      <td>0.6423</td>\n",
       "      <td>0.6304</td>\n",
       "      <td>0.3601</td>\n",
       "      <td>0.5503</td>\n",
       "      <td>0.6606</td>\n",
       "      <td>0.5526</td>\n",
       "      <td>0.3608</td>\n",
       "      <td>True</td>\n",
       "    </tr>\n",
       "    <tr>\n",
       "      <th>4</th>\n",
       "      <td>156e1469-2104-41c4-a06c-7916a7863844</td>\n",
       "      <td>persisches-kebab-als-ablenkung.json</td>\n",
       "      <td>2013-05-02 16:51:00</td>\n",
       "      <td>Selina Nowak</td>\n",
       "      <td>Persisches Kebab als Ablenkung</td>\n",
       "      <td>Politik</td>\n",
       "      <td>Nachrichten</td>\n",
       "      <td>605</td>\n",
       "      <td>0.3752</td>\n",
       "      <td>0.4779</td>\n",
       "      <td>0.5534</td>\n",
       "      <td>0.6336</td>\n",
       "      <td>0.4264</td>\n",
       "      <td>0.4229</td>\n",
       "      <td>0.5750</td>\n",
       "      <td>0.5052</td>\n",
       "      <td>0.4895</td>\n",
       "      <td>True</td>\n",
       "    </tr>\n",
       "  </tbody>\n",
       "</table>\n",
       "</div>"
      ],
      "text/plain": [
       "                                     id  \\\n",
       "0  7415582d-2272-44a8-91d2-10fd9ba380ac   \n",
       "1  a90f1215-56b1-44f4-a5c2-d623d5797d73   \n",
       "2  3b42941e-616f-4f72-a58f-e7bef47f3ea4   \n",
       "3  1d7d5e7f-b7e9-4f75-87a0-5fad2d424f80   \n",
       "4  156e1469-2104-41c4-a06c-7916a7863844   \n",
       "\n",
       "                                            filename         published_at  \\\n",
       "0  schulautonomie-offnet-die-tur-fur-konzentratio...  2014-09-26 18:29:00   \n",
       "1                     keine-bilder-sondern-hass.json  2006-02-17 00:00:00   \n",
       "2  newex-die-neue-osteuropaborse-mit-hohem-qualit...  2000-02-04 00:00:00   \n",
       "3             ich-glaube-an-den-mundigen-burger.json  2013-11-21 19:50:00   \n",
       "4                persisches-kebab-als-ablenkung.json  2013-05-02 16:51:00   \n",
       "\n",
       "              author                                              title  \\\n",
       "0    Brigitte Pechar  Schulautonomie öffnet die Tür für Konzentratio...   \n",
       "1  Michael Schmölzer                       \"Keine Bilder, sondern Hass\"   \n",
       "2          Rosa Eder  NEWEX · Die neue Osteuropabörse mit hohem Qual...   \n",
       "3   Elisabeth Hewson                \"Ich glaube an den mündigen Bürger\"   \n",
       "4       Selina Nowak                     Persisches Kebab als Ablenkung   \n",
       "\n",
       "     category      section  word_count  financial_crisis  sustainability  \\\n",
       "0     Politik  Nachrichten         376            0.4627          0.5436   \n",
       "1     Politik  Nachrichten         200            0.0698          0.5032   \n",
       "2  Wirtschaft  Nachrichten         308            0.5670          0.6146   \n",
       "3      Wissen  Nachrichten        1640            0.4024          0.4625   \n",
       "4     Politik  Nachrichten         605            0.3752          0.4779   \n",
       "\n",
       "   fake_news      ai  digitalization  local_journalism   covid  demographics  \\\n",
       "0     0.5818  0.6098          0.4597            0.5763  0.6398        0.5774   \n",
       "1     0.1280  0.9302          0.0280            0.0111  0.5140        0.1343   \n",
       "2     0.5711  0.6185          0.5815            0.4234  0.6053        0.5924   \n",
       "3     0.6423  0.6304          0.3601            0.5503  0.6606        0.5526   \n",
       "4     0.5534  0.6336          0.4264            0.4229  0.5750        0.5052   \n",
       "\n",
       "   innovation  valid_indicator  \n",
       "0      0.6911             True  \n",
       "1      0.1802             True  \n",
       "2      0.5937             True  \n",
       "3      0.3608             True  \n",
       "4      0.4895             True  "
      ]
     },
     "execution_count": 4,
     "metadata": {},
     "output_type": "execute_result"
    }
   ],
   "source": [
    "filtered_metadata = pd.read_csv(FILTERED_METADATA_PATH)\n",
    "filtered_metadata.head(5)"
   ]
  },
  {
   "cell_type": "markdown",
   "metadata": {},
   "source": [
    "Create simple vector database"
   ]
  },
  {
   "cell_type": "code",
   "execution_count": 6,
   "metadata": {},
   "outputs": [],
   "source": [
    "def get_documents_from_path(filenames: list[str]) -> [Document]:\n",
    "    documents = []\n",
    "    \n",
    "    for file_name in filenames:\n",
    "        file_path = os.path.join(ARTICLES_CLEAN_DIR, file_name)\n",
    "        with open(file_path, \"r\", encoding=\"utf-8\") as file:\n",
    "            file = json.load(file)\n",
    "\n",
    "        text = file.get(\"text\", \"\")\n",
    "        documents.append(Document(page_content=text, metadata={\n",
    "            \"title\": file.get(\"title\", \"\"),\n",
    "            \"author\": file.get(\"author\", \"\"),\n",
    "            \"published_at\": file.get(\"published_at\", \"\"),\n",
    "            \"id\": file.get(\"id\", \"\"),\n",
    "        }))\n",
    "\n",
    "    return documents"
   ]
  },
  {
   "cell_type": "code",
   "execution_count": 7,
   "metadata": {},
   "outputs": [
    {
     "name": "stdout",
     "output_type": "stream",
     "text": [
      "Number of articles: 395\n"
     ]
    }
   ],
   "source": [
    "documents = get_documents_from_path(filtered_metadata[\"filename\"])\n",
    "print(f\"Number of articles: {len(documents)}\")"
   ]
  },
  {
   "cell_type": "code",
   "execution_count": 8,
   "metadata": {},
   "outputs": [],
   "source": [
    "# Create database\n",
    "text_splitter = RecursiveCharacterTextSplitter(chunk_size=1024, separators=[\"\\n\\n\", \"\\n\"])\n",
    "\n",
    "# Split documents and create vector database\n",
    "texts = text_splitter.split_documents(documents)"
   ]
  },
  {
   "cell_type": "code",
   "execution_count": 9,
   "metadata": {},
   "outputs": [],
   "source": [
    "embeddings = get_azure_embeddings_client(\n",
    "    chunk_size=512, # number of documents' chunks processed in parallel, decrease if you hit rate limits\n",
    "    show_progress_bar=True,\n",
    ")"
   ]
  },
  {
   "cell_type": "code",
   "execution_count": 49,
   "metadata": {},
   "outputs": [
    {
     "data": {
      "application/vnd.jupyter.widget-view+json": {
       "model_id": "9714df2cd65a4d2bb80098c397b7c743",
       "version_major": 2,
       "version_minor": 0
      },
      "text/plain": [
       "  0%|          | 0/5 [00:00<?, ?it/s]"
      ]
     },
     "metadata": {},
     "output_type": "display_data"
    }
   ],
   "source": [
    "db = FAISS.from_documents(texts, embeddings)"
   ]
  },
  {
   "cell_type": "code",
   "execution_count": 10,
   "metadata": {},
   "outputs": [
    {
     "name": "stdout",
     "output_type": "stream",
     "text": [
      "Token count: 454318\n"
     ]
    }
   ],
   "source": [
    "# Count build embedding token number\n",
    "tokenizer = tiktoken.get_encoding(\"cl100k_base\")\n",
    "build_token_count = sum([len(tokenizer.encode(doc.page_content)) for doc in texts])\n",
    "print(f\"Token count: {build_token_count}\")"
   ]
  },
  {
   "cell_type": "code",
   "execution_count": 51,
   "metadata": {},
   "outputs": [],
   "source": [
    "# Store the database\n",
    "with open(DB_PATH, \"wb\") as f:\n",
    "    pickle.dump(db.serialize_to_bytes(), f)"
   ]
  },
  {
   "cell_type": "markdown",
   "metadata": {},
   "source": [
    "Create simple RAG"
   ]
  },
  {
   "cell_type": "code",
   "execution_count": 11,
   "metadata": {},
   "outputs": [],
   "source": [
    "# CHECKPOINT: Load vector DB\n",
    "with open(DB_PATH, \"rb\") as f:\n",
    "    serialized_data = pickle.load(f)\n",
    "\n",
    "# Reconstruct the FAISS database\n",
    "db = FAISS.deserialize_from_bytes(serialized_data, embeddings, allow_dangerous_deserialization=True)"
   ]
  },
  {
   "cell_type": "code",
   "execution_count": 12,
   "metadata": {},
   "outputs": [],
   "source": [
    "# FYI: free tier Gemini LLM \n",
    "# rate_limiter = InMemoryRateLimiter(\n",
    "#     requests_per_second=0.5,  # <-- Gemini Free Tier\n",
    "#     check_every_n_seconds=0.1,\n",
    "# )\n",
    "\n",
    "# llm = get_gemini_llm_client(\n",
    "#     max_tokens=1024,\n",
    "#     temperature=0.2,\n",
    "#     rate_limiter=rate_limiter,\n",
    "# )\n",
    "\n",
    "# Default go-to Openrouter LLM - check README for other available models\n",
    "llm = get_llm_client(\n",
    "    # Configurable parameters\n",
    "    max_tokens=1024,\n",
    "    temperature=0.2,\n",
    ")"
   ]
  },
  {
   "cell_type": "code",
   "execution_count": 13,
   "metadata": {},
   "outputs": [],
   "source": [
    "system_prompt = \"\"\"\n",
    "You are an expert assistant to find sentences or articles that are about similar topics to that of the inputed sentence. Use only the following retrieved context to answer the question accurately and concisely. \n",
    "If you find absolutely no sentences or articles relating to this topic, say \"I don't know\".\n",
    "Context: {context}\n",
    "Question: {question}\n",
    "\"\"\"\n",
    "\n",
    "prompt_template = PromptTemplate(\n",
    "    input_variables=[\"context\", \"question\"], \n",
    "    template=system_prompt\n",
    ")\n",
    "\n",
    "retrieval_chain = RetrievalQA.from_chain_type(\n",
    "    llm=llm,\n",
    "    retriever=db.as_retriever(),\n",
    "    return_source_documents=True,\n",
    "    chain_type_kwargs={\"prompt\": prompt_template}\n",
    ")"
   ]
  },
  {
   "cell_type": "code",
   "execution_count": 14,
   "metadata": {},
   "outputs": [],
   "source": [
    "def ask_question(query):\n",
    "    response = retrieval_chain.invoke({\"query\": query})\n",
    "    print(f\"Question: {query}\\nAnswer: {response['result']}\")\n",
    "    print(\"\\nSources: \\n\")\n",
    "    for source in response[\"source_documents\"]:\n",
    "        print(source.metadata)\n",
    "    return response"
   ]
  },
  {
   "cell_type": "code",
   "execution_count": 17,
   "metadata": {},
   "outputs": [
    {
     "data": {
      "application/vnd.jupyter.widget-view+json": {
       "model_id": "c9cfd088069e48e0b9a8a2c2e00159bd",
       "version_major": 2,
       "version_minor": 0
      },
      "text/plain": [
       "  0%|          | 0/1 [00:00<?, ?it/s]"
      ]
     },
     "metadata": {},
     "output_type": "display_data"
    },
    {
     "name": "stdout",
     "output_type": "stream",
     "text": [
      "Question: Could you find articles that are related to this quote and summarize them: ' Pünktlich zur Internationalen Orchideen- und Tillandsienschau der Blumengärten Hirschstetten wartet der Botanische Garten der Universität Wien mit einer kleinen Sensation auf'?\n",
      "Answer: The context mentions that the Botanical Garden of the University of Vienna is showcasing a remarkable event coinciding with the International Orchid and Tillandsia Show at the Blumengärten Hirschstetten. Specifically, it highlights that a spectacular orchid species, Grammatophyllum speciosum, has developed a long flowering shoot and is blooming for the first time since being in the garden's research collection since 2010. This event is part of the orchid exhibition, which offers expert advice on orchid care and the opportunity to purchase plants.\n",
      "\n",
      "Sources: \n",
      "\n",
      "{'title': 'Spektakuläre Orchidee blüht zum ersten Mal', 'author': 'WZOnline', 'published_at': '2016-02-15 16:02', 'id': 'a6fd1e98-d853-460c-a7c8-5d74eaf0c845'}\n",
      "{'title': 'Spektakuläre Orchidee blüht zum ersten Mal', 'author': 'WZOnline', 'published_at': '2016-02-15 16:02', 'id': 'a6fd1e98-d853-460c-a7c8-5d74eaf0c845'}\n",
      "{'title': 'Spektakuläre Orchidee blüht zum ersten Mal', 'author': 'WZOnline', 'published_at': '2016-02-15 16:02', 'id': 'a6fd1e98-d853-460c-a7c8-5d74eaf0c845'}\n",
      "{'title': 'Wie sich durch Efeu und Co. das Blatt bei Krankenständen wendet', 'author': 'Petra Medek', 'published_at': '2005-04-06 00:00', 'id': '93e95873-86e5-4eab-8e9f-80890b4ddef3'}\n"
     ]
    }
   ],
   "source": [
    "response = ask_question(\"Could you find articles that are related to this quote and summarize them: ' Pünktlich zur Internationalen Orchideen- und Tillandsienschau der Blumengärten Hirschstetten wartet der Botanische Garten der Universität Wien mit einer kleinen Sensation auf'?\")"
   ]
  }
 ],
 "metadata": {
  "kernelspec": {
   "display_name": ".venv",
   "language": "python",
   "name": "python3"
  },
  "language_info": {
   "codemirror_mode": {
    "name": "ipython",
    "version": 3
   },
   "file_extension": ".py",
   "mimetype": "text/x-python",
   "name": "python",
   "nbconvert_exporter": "python",
   "pygments_lexer": "ipython3",
   "version": "3.13.2"
  }
 },
 "nbformat": 4,
 "nbformat_minor": 2
}
